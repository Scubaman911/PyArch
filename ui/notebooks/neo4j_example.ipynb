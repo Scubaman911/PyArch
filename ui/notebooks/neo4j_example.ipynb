{
 "cells": [
  {
   "cell_type": "markdown",
   "id": "ac5412f3-a284-43a3-9822-783c01a5d5f9",
   "metadata": {},
   "source": [
    "# Example requests to the back end api"
   ]
  },
  {
   "cell_type": "code",
   "execution_count": 31,
   "id": "6cbd3aeb-542c-432a-80b4-00dc125d3588",
   "metadata": {},
   "outputs": [],
   "source": [
    "import requests\n",
    "import json"
   ]
  },
  {
   "cell_type": "code",
   "execution_count": 36,
   "id": "84a5eb36-9570-4edd-bea1-c552e6d87c15",
   "metadata": {},
   "outputs": [],
   "source": [
    "url = 'http://proxy/api/v1/animals/info/?animal=kangaroo'"
   ]
  },
  {
   "cell_type": "code",
   "execution_count": 37,
   "id": "eb309a71-3193-4407-8b8e-cd564531f521",
   "metadata": {},
   "outputs": [],
   "source": [
    "r = requests.post(url)"
   ]
  },
  {
   "cell_type": "code",
   "execution_count": 38,
   "id": "ec248c2e-5b08-400b-80eb-84721df95450",
   "metadata": {},
   "outputs": [
    {
     "name": "stdout",
     "output_type": "stream",
     "text": [
      "200\n"
     ]
    }
   ],
   "source": [
    "print(r.status_code)"
   ]
  },
  {
   "cell_type": "code",
   "execution_count": 39,
   "id": "e7f9bd5d-ff76-40fb-b38d-665e926f179b",
   "metadata": {},
   "outputs": [
    {
     "name": "stdout",
     "output_type": "stream",
     "text": [
      "{\n",
      "    \"fun_fact\": \"Kangaroos Are the Largest Marsupials on Earth\",\n",
      "    \"id\": 1,\n",
      "    \"name\": \"kangaroo\"\n",
      "}\n"
     ]
    }
   ],
   "source": [
    "j = json.loads(r.text)\n",
    "print(json.dumps(j, indent=4, sort_keys=True))"
   ]
  }
 ],
 "metadata": {
  "kernelspec": {
   "display_name": "Python 3 (ipykernel)",
   "language": "python",
   "name": "python3"
  },
  "language_info": {
   "codemirror_mode": {
    "name": "ipython",
    "version": 3
   },
   "file_extension": ".py",
   "mimetype": "text/x-python",
   "name": "python",
   "nbconvert_exporter": "python",
   "pygments_lexer": "ipython3",
   "version": "3.9.5"
  }
 },
 "nbformat": 4,
 "nbformat_minor": 5
}
