{
 "cells": [
  {
   "cell_type": "markdown",
   "id": "ac5412f3-a284-43a3-9822-783c01a5d5f9",
   "metadata": {},
   "source": [
    "# Example request to the back end api"
   ]
  },
  {
   "cell_type": "code",
   "execution_count": 12,
   "id": "6cbd3aeb-542c-432a-80b4-00dc125d3588",
   "metadata": {},
   "outputs": [],
   "source": [
    "import requests"
   ]
  },
  {
   "cell_type": "code",
   "execution_count": 13,
   "id": "84a5eb36-9570-4edd-bea1-c552e6d87c15",
   "metadata": {},
   "outputs": [],
   "source": [
    "url = 'http://flask-dev:5000/v1/animals/info/'\n",
    "data = {\"animal\": \"kangaroo\"}"
   ]
  },
  {
   "cell_type": "code",
   "execution_count": 14,
   "id": "eb309a71-3193-4407-8b8e-cd564531f521",
   "metadata": {},
   "outputs": [],
   "source": [
    "r = requests.post(url, json=data)"
   ]
  },
  {
   "cell_type": "code",
   "execution_count": 15,
   "id": "ec248c2e-5b08-400b-80eb-84721df95450",
   "metadata": {},
   "outputs": [
    {
     "name": "stdout",
     "output_type": "stream",
     "text": [
      "200\n"
     ]
    }
   ],
   "source": [
    "print(r.status_code)"
   ]
  },
  {
   "cell_type": "code",
   "execution_count": 17,
   "id": "e7f9bd5d-ff76-40fb-b38d-665e926f179b",
   "metadata": {},
   "outputs": [
    {
     "name": "stdout",
     "output_type": "stream",
     "text": [
      "{\n",
      "  \"fun_fact\": \"Kangaroos Are the Largest Marsupials on Earth\", \n",
      "  \"id\": 1, \n",
      "  \"name\": \"kangaroo\"\n",
      "}\n",
      "\n"
     ]
    }
   ],
   "source": [
    "print(r.text)"
   ]
  },
  {
   "cell_type": "code",
   "execution_count": null,
   "id": "880199d0-0437-47b1-8f0e-2f03ee21840f",
   "metadata": {},
   "outputs": [],
   "source": []
  }
 ],
 "metadata": {
  "kernelspec": {
   "display_name": "Python 3 (ipykernel)",
   "language": "python",
   "name": "python3"
  },
  "language_info": {
   "codemirror_mode": {
    "name": "ipython",
    "version": 3
   },
   "file_extension": ".py",
   "mimetype": "text/x-python",
   "name": "python",
   "nbconvert_exporter": "python",
   "pygments_lexer": "ipython3",
   "version": "3.9.5"
  }
 },
 "nbformat": 4,
 "nbformat_minor": 5
}
