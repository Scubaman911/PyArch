{
 "cells": [
  {
   "cell_type": "markdown",
   "id": "ac5412f3-a284-43a3-9822-783c01a5d5f9",
   "metadata": {},
   "source": [
    "# Example requests to the back end api"
   ]
  },
  {
   "cell_type": "code",
   "execution_count": 32,
   "id": "6cbd3aeb-542c-432a-80b4-00dc125d3588",
   "metadata": {},
   "outputs": [],
   "source": [
    "import requests\n",
    "import json"
   ]
  },
  {
   "cell_type": "code",
   "execution_count": 33,
   "id": "84a5eb36-9570-4edd-bea1-c552e6d87c15",
   "metadata": {},
   "outputs": [],
   "source": [
    "url = 'http://flask-dev:5000/api/v1/animals/info/'\n",
    "data = {\"animal\": \"kangaroo\"}"
   ]
  },
  {
   "cell_type": "code",
   "execution_count": 34,
   "id": "eb309a71-3193-4407-8b8e-cd564531f521",
   "metadata": {},
   "outputs": [],
   "source": [
    "r = requests.post(url, json=data)"
   ]
  },
  {
   "cell_type": "code",
   "execution_count": 35,
   "id": "ec248c2e-5b08-400b-80eb-84721df95450",
   "metadata": {},
   "outputs": [
    {
     "name": "stdout",
     "output_type": "stream",
     "text": [
      "200\n"
     ]
    }
   ],
   "source": [
    "print(r.status_code)"
   ]
  },
  {
   "cell_type": "code",
   "execution_count": 36,
   "id": "e7f9bd5d-ff76-40fb-b38d-665e926f179b",
   "metadata": {},
   "outputs": [
    {
     "name": "stdout",
     "output_type": "stream",
     "text": [
      "{\n",
      "  \"fun_fact\": \"Kangaroos Are the Largest Marsupials on Earth\", \n",
      "  \"id\": 1, \n",
      "  \"name\": \"kangaroo\"\n",
      "}\n",
      "\n"
     ]
    }
   ],
   "source": [
    "print(r.text)"
   ]
  },
  {
   "cell_type": "markdown",
   "id": "80c18f8b-e26a-45d5-9502-6a979ebd5e10",
   "metadata": {},
   "source": [
    "## Let's print the available paths next\n",
    "\n",
    "The entire schema can be printed by removing the .get(\"paths\")."
   ]
  },
  {
   "cell_type": "code",
   "execution_count": 37,
   "id": "880199d0-0437-47b1-8f0e-2f03ee21840f",
   "metadata": {},
   "outputs": [
    {
     "name": "stdout",
     "output_type": "stream",
     "text": [
      "{\n",
      "    \"/api/v1/animals/info/\": {\n",
      "        \"post\": {\n",
      "            \"description\": \"\",\n",
      "            \"operationId\": \"post_/api/v1/animals/info/\",\n",
      "            \"parameters\": [],\n",
      "            \"requestBody\": {\n",
      "                \"content\": {\n",
      "                    \"application/json\": {\n",
      "                        \"schema\": {\n",
      "                            \"$ref\": \"#/components/schemas/6571a57.QInfoModel\"\n",
      "                        }\n",
      "                    }\n",
      "                }\n",
      "            },\n",
      "            \"responses\": {\n",
      "                \"200\": {\n",
      "                    \"content\": {\n",
      "                        \"application/json\": {\n",
      "                            \"schema\": {\n",
      "                                \"$ref\": \"#/components/schemas/a08c0e2.RInfoModel\"\n",
      "                            }\n",
      "                        }\n",
      "                    },\n",
      "                    \"description\": \"OK\"\n",
      "                },\n",
      "                \"422\": {\n",
      "                    \"content\": {\n",
      "                        \"application/json\": {\n",
      "                            \"schema\": {\n",
      "                                \"$ref\": \"#/components/schemas/6a07bef.UnprocessableEntity\"\n",
      "                            }\n",
      "                        }\n",
      "                    },\n",
      "                    \"description\": \"Unprocessable Entity\"\n",
      "                }\n",
      "            },\n",
      "            \"summary\": \"Get info by animal name...it only knows kangaroo\",\n",
      "            \"tags\": [\n",
      "                \"v1\"\n",
      "            ]\n",
      "        }\n",
      "    }\n",
      "}\n"
     ]
    }
   ],
   "source": [
    "url2 = 'http://flask-dev:5000/apidoc/openapi.json'\n",
    "r = requests.get(url2)\n",
    "j = json.loads(r.text)\n",
    "print(json.dumps(j.get(\"paths\"), indent=4, sort_keys=True))"
   ]
  },
  {
   "cell_type": "code",
   "execution_count": null,
   "id": "cb4c0188-21a3-420c-930b-39a27f5bc571",
   "metadata": {},
   "outputs": [],
   "source": []
  }
 ],
 "metadata": {
  "kernelspec": {
   "display_name": "Python 3 (ipykernel)",
   "language": "python",
   "name": "python3"
  },
  "language_info": {
   "codemirror_mode": {
    "name": "ipython",
    "version": 3
   },
   "file_extension": ".py",
   "mimetype": "text/x-python",
   "name": "python",
   "nbconvert_exporter": "python",
   "pygments_lexer": "ipython3",
   "version": "3.9.5"
  }
 },
 "nbformat": 4,
 "nbformat_minor": 5
}
